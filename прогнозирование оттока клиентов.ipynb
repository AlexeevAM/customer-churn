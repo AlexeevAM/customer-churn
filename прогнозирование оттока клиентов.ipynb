{
 "cells": [
  {
   "cell_type": "markdown",
   "metadata": {},
   "source": [
    "# Отток клиентов"
   ]
  },
  {
   "cell_type": "markdown",
   "metadata": {},
   "source": [
    "Из «Бета-Банка» стали уходить клиенты. Каждый месяц. Немного, но заметно. Банковские маркетологи посчитали: сохранять текущих клиентов дешевле, чем привлекать новых.\n",
    "\n",
    "Нужно спрогнозировать, уйдёт клиент из банка в ближайшее время или нет. Вам предоставлены исторические данные о поведении клиентов и расторжении договоров с банком. \n",
    "\n",
    "Постройте модель с предельно большим значением *F1*-меры. Чтобы сдать проект успешно, нужно довести метрику до 0.59. Проверьте *F1*-меру на тестовой выборке самостоятельно.\n",
    "\n",
    "Дополнительно измеряйте *AUC-ROC*, сравнивайте её значение с *F1*-мерой.\n",
    "\n",
    "Источник данных: [https://www.kaggle.com/barelydedicated/bank-customer-churn-modeling](https://www.kaggle.com/barelydedicated/bank-customer-churn-modeling)"
   ]
  },
  {
   "cell_type": "markdown",
   "metadata": {},
   "source": [
    "План:\n",
    "\n",
    "1. [Загрузка и подготовка данных.](#start)\n",
    "\n",
    "2. [Исследование задачи, обучение модели без учёта дисбаланса классов.](#exploration)\n",
    "\n",
    "3. [Борьба с дисбалансом, построение модели с учетом дисбаланса классов.](#disbalance)\n",
    "\n",
    "4. [Финальное тестирование.](#test)\n",
    "\n",
    "5. [Измерение AUC-ROC.](#auc-roc)\n",
    "\n",
    "6. [Выводы.](#conclusion)\n"
   ]
  },
  {
   "cell_type": "markdown",
   "metadata": {},
   "source": [
    "# 1. Подготовка данных"
   ]
  },
  {
   "cell_type": "code",
   "execution_count": 1,
   "metadata": {},
   "outputs": [],
   "source": [
    "import pandas as pd\n",
    "import numpy as np\n",
    "from sklearn.tree import DecisionTreeClassifier\n",
    "from sklearn.ensemble import RandomForestClassifier\n",
    "from sklearn.linear_model import LogisticRegression\n",
    "from sklearn.model_selection import train_test_split\n",
    "from sklearn.preprocessing import OrdinalEncoder\n",
    "from sklearn.preprocessing import StandardScaler\n",
    "from sklearn.metrics import f1_score\n",
    "from sklearn.utils import shuffle\n",
    "from sklearn.metrics import roc_curve\n",
    "from sklearn.metrics import roc_auc_score\n",
    "import warnings\n",
    "warnings.simplefilter(action='ignore', category=Warning)\n",
    "import matplotlib.pyplot as plt\n",
    "import seaborn as sns"
   ]
  },
  {
   "cell_type": "code",
   "execution_count": 2,
   "metadata": {},
   "outputs": [],
   "source": [
    "df=pd.read_csv('/datasets/Churn.csv')\n"
   ]
  },
  {
   "cell_type": "code",
   "execution_count": 3,
   "metadata": {},
   "outputs": [
    {
     "data": {
      "text/html": [
       "<div>\n",
       "<style scoped>\n",
       "    .dataframe tbody tr th:only-of-type {\n",
       "        vertical-align: middle;\n",
       "    }\n",
       "\n",
       "    .dataframe tbody tr th {\n",
       "        vertical-align: top;\n",
       "    }\n",
       "\n",
       "    .dataframe thead th {\n",
       "        text-align: right;\n",
       "    }\n",
       "</style>\n",
       "<table border=\"1\" class=\"dataframe\">\n",
       "  <thead>\n",
       "    <tr style=\"text-align: right;\">\n",
       "      <th></th>\n",
       "      <th>RowNumber</th>\n",
       "      <th>CustomerId</th>\n",
       "      <th>Surname</th>\n",
       "      <th>CreditScore</th>\n",
       "      <th>Geography</th>\n",
       "      <th>Gender</th>\n",
       "      <th>Age</th>\n",
       "      <th>Tenure</th>\n",
       "      <th>Balance</th>\n",
       "      <th>NumOfProducts</th>\n",
       "      <th>HasCrCard</th>\n",
       "      <th>IsActiveMember</th>\n",
       "      <th>EstimatedSalary</th>\n",
       "      <th>Exited</th>\n",
       "    </tr>\n",
       "  </thead>\n",
       "  <tbody>\n",
       "    <tr>\n",
       "      <td>0</td>\n",
       "      <td>1</td>\n",
       "      <td>15634602</td>\n",
       "      <td>Hargrave</td>\n",
       "      <td>619</td>\n",
       "      <td>France</td>\n",
       "      <td>Female</td>\n",
       "      <td>42</td>\n",
       "      <td>2.0</td>\n",
       "      <td>0.00</td>\n",
       "      <td>1</td>\n",
       "      <td>1</td>\n",
       "      <td>1</td>\n",
       "      <td>101348.88</td>\n",
       "      <td>1</td>\n",
       "    </tr>\n",
       "    <tr>\n",
       "      <td>1</td>\n",
       "      <td>2</td>\n",
       "      <td>15647311</td>\n",
       "      <td>Hill</td>\n",
       "      <td>608</td>\n",
       "      <td>Spain</td>\n",
       "      <td>Female</td>\n",
       "      <td>41</td>\n",
       "      <td>1.0</td>\n",
       "      <td>83807.86</td>\n",
       "      <td>1</td>\n",
       "      <td>0</td>\n",
       "      <td>1</td>\n",
       "      <td>112542.58</td>\n",
       "      <td>0</td>\n",
       "    </tr>\n",
       "    <tr>\n",
       "      <td>2</td>\n",
       "      <td>3</td>\n",
       "      <td>15619304</td>\n",
       "      <td>Onio</td>\n",
       "      <td>502</td>\n",
       "      <td>France</td>\n",
       "      <td>Female</td>\n",
       "      <td>42</td>\n",
       "      <td>8.0</td>\n",
       "      <td>159660.80</td>\n",
       "      <td>3</td>\n",
       "      <td>1</td>\n",
       "      <td>0</td>\n",
       "      <td>113931.57</td>\n",
       "      <td>1</td>\n",
       "    </tr>\n",
       "    <tr>\n",
       "      <td>3</td>\n",
       "      <td>4</td>\n",
       "      <td>15701354</td>\n",
       "      <td>Boni</td>\n",
       "      <td>699</td>\n",
       "      <td>France</td>\n",
       "      <td>Female</td>\n",
       "      <td>39</td>\n",
       "      <td>1.0</td>\n",
       "      <td>0.00</td>\n",
       "      <td>2</td>\n",
       "      <td>0</td>\n",
       "      <td>0</td>\n",
       "      <td>93826.63</td>\n",
       "      <td>0</td>\n",
       "    </tr>\n",
       "    <tr>\n",
       "      <td>4</td>\n",
       "      <td>5</td>\n",
       "      <td>15737888</td>\n",
       "      <td>Mitchell</td>\n",
       "      <td>850</td>\n",
       "      <td>Spain</td>\n",
       "      <td>Female</td>\n",
       "      <td>43</td>\n",
       "      <td>2.0</td>\n",
       "      <td>125510.82</td>\n",
       "      <td>1</td>\n",
       "      <td>1</td>\n",
       "      <td>1</td>\n",
       "      <td>79084.10</td>\n",
       "      <td>0</td>\n",
       "    </tr>\n",
       "  </tbody>\n",
       "</table>\n",
       "</div>"
      ],
      "text/plain": [
       "   RowNumber  CustomerId   Surname  CreditScore Geography  Gender  Age  \\\n",
       "0          1    15634602  Hargrave          619    France  Female   42   \n",
       "1          2    15647311      Hill          608     Spain  Female   41   \n",
       "2          3    15619304      Onio          502    France  Female   42   \n",
       "3          4    15701354      Boni          699    France  Female   39   \n",
       "4          5    15737888  Mitchell          850     Spain  Female   43   \n",
       "\n",
       "   Tenure    Balance  NumOfProducts  HasCrCard  IsActiveMember  \\\n",
       "0     2.0       0.00              1          1               1   \n",
       "1     1.0   83807.86              1          0               1   \n",
       "2     8.0  159660.80              3          1               0   \n",
       "3     1.0       0.00              2          0               0   \n",
       "4     2.0  125510.82              1          1               1   \n",
       "\n",
       "   EstimatedSalary  Exited  \n",
       "0        101348.88       1  \n",
       "1        112542.58       0  \n",
       "2        113931.57       1  \n",
       "3         93826.63       0  \n",
       "4         79084.10       0  "
      ]
     },
     "execution_count": 3,
     "metadata": {},
     "output_type": "execute_result"
    }
   ],
   "source": [
    "df.head()"
   ]
  },
  {
   "cell_type": "code",
   "execution_count": 4,
   "metadata": {},
   "outputs": [
    {
     "name": "stdout",
     "output_type": "stream",
     "text": [
      "<class 'pandas.core.frame.DataFrame'>\n",
      "RangeIndex: 10000 entries, 0 to 9999\n",
      "Data columns (total 14 columns):\n",
      "RowNumber          10000 non-null int64\n",
      "CustomerId         10000 non-null int64\n",
      "Surname            10000 non-null object\n",
      "CreditScore        10000 non-null int64\n",
      "Geography          10000 non-null object\n",
      "Gender             10000 non-null object\n",
      "Age                10000 non-null int64\n",
      "Tenure             9091 non-null float64\n",
      "Balance            10000 non-null float64\n",
      "NumOfProducts      10000 non-null int64\n",
      "HasCrCard          10000 non-null int64\n",
      "IsActiveMember     10000 non-null int64\n",
      "EstimatedSalary    10000 non-null float64\n",
      "Exited             10000 non-null int64\n",
      "dtypes: float64(3), int64(8), object(3)\n",
      "memory usage: 1.1+ MB\n"
     ]
    }
   ],
   "source": [
    "df.info()"
   ]
  },
  {
   "cell_type": "markdown",
   "metadata": {},
   "source": [
    "мы наблюдаем пропуски в таком признаке, как количество недвижимости у клиента,к тому же тип данных у данного признака несоответствующий, в частности должен быть целочисленный. В части наличия пропусков по данному признаку можно предположить, что это связано с отсутствием недвижимости у данных клиентов, поэтому пропуски можно заменить на 0 и изменить тип данных на целочисленный. Также, мы наблюдаем признаки, которые вряд ли помогут нам в решении нашей задачи, в частности 'RowNumber' (индекс строки в данных),'CustomerId' (уникальный идентификатор клиента),'Surname' (фамилия), поэтому, чтобы не нагружать модель лишней информацией, эти признаки мы удалим."
   ]
  },
  {
   "cell_type": "markdown",
   "metadata": {},
   "source": [
    "С целью установления возможной мультиколлениарности рассматриваемых факторов, которая может стать причиной переробучения модели и увеличения сложности модели обучения, то есть факторов, которые имеют сильную связь друг с другом, посмотрим значения коэффициентов корреляции по рассматриваемым переменным. Будем считать, что две переменных коллинеарны, когда они находятся между собой в линейной зависимости, то есть если коэффициент корреляции более 0,7. Таким методом сравнивать будем только количественные признаки"
   ]
  },
  {
   "cell_type": "code",
   "execution_count": 5,
   "metadata": {},
   "outputs": [
    {
     "data": {
      "image/png": "[encoded data removed]",
      "text/plain": [
       "<Figure size 1080x720 with 2 Axes>"
      ]
     },
     "metadata": {
      "needs_background": "light"
     },
     "output_type": "display_data"
    }
   ],
   "source": [
    "df_corr = df.corr()\n",
    "f, ax = plt.subplots(figsize=(15, 10))\n",
    "plt.xticks(rotation='90')\n",
    "sns.heatmap(df_corr, square=True, linewidths=5, annot=True);"
   ]
  },
  {
   "cell_type": "markdown",
   "metadata": {},
   "source": [
    "Больших значений коэффициентов корелляции по рассматриваемым количественным признакам не наблюдаем, соответственно мультиколлениарность по данным факторам также не наблюдаем."
   ]
  },
  {
   "cell_type": "markdown",
   "metadata": {},
   "source": [
    "удаляем из датасета \"лишние\" признаки"
   ]
  },
  {
   "cell_type": "code",
   "execution_count": 6,
   "metadata": {},
   "outputs": [],
   "source": [
    "df=df.drop(['RowNumber','CustomerId','Surname'],axis=1)"
   ]
  },
  {
   "cell_type": "markdown",
   "metadata": {},
   "source": [
    "заполняем нулями пропуски в столбце с информацией о наличии недвижимости"
   ]
  },
  {
   "cell_type": "code",
   "execution_count": 7,
   "metadata": {},
   "outputs": [],
   "source": [
    "df['Tenure']=df['Tenure'].fillna(0).astype('int64')"
   ]
  },
  {
   "cell_type": "markdown",
   "metadata": {},
   "source": [
    "### Выводы"
   ]
  },
  {
   "cell_type": "markdown",
   "metadata": {},
   "source": [
    "В ходе выполнения первого шага мы открыли интересующий файл с данными, сохранив его в датафрейме df, а также получили общую информацию об указанном датафрейме.\n",
    "Таблица включает в себя 14 признаков и 10 000 объектов.\n",
    "\n",
    "Признаки\n",
    "\n",
    "RowNumber — индекс строки в данных (int64)\n",
    "\n",
    "CustomerId — уникальный идентификатор клиента (int64)\n",
    "\n",
    "Surname — фамилия (object)\n",
    "\n",
    "CreditScore — кредитный рейтинг (int64)\n",
    "\n",
    "Geography — страна проживания (object)\n",
    "\n",
    "Gender — пол (object)\n",
    "\n",
    "Age — возраст (int64)\n",
    "\n",
    "Tenure — количество недвижимости у клиента (float64)\n",
    "\n",
    "Balance — баланс на счёте (float64)\n",
    "\n",
    "NumOfProducts — количество продуктов банка, используемых клиентом (int64)\n",
    "\n",
    "HasCrCard — наличие кредитной карты (int64)\n",
    "\n",
    "IsActiveMember — активность клиента (int64)\n",
    "\n",
    "EstimatedSalary — предполагаемая зарплата (float64)\n",
    "\n",
    "Exited — факт ухода клиента (int64)\n",
    "\n",
    "Целевым признаком является Exited, остальные признаки будут служить для обучения модели, т.е. модель, которую мы попытаемся построить, будет предсказывать значение 1, если клиент вероятнее всего уйдет из банка, и 0, если останется. В этом и заключается задача бинарной классификации, т.к. наш целевой признак является категориальным.\n",
    "\n",
    "Также, мы обнаружили такую проблему, как пропуски в признаке со значениями количества недвижимости у клиента,к тому же тип данных у данного признака также несоответствующий, в частности float64, а должен быть целочисленный. В части наличия пропусков по данному признаку мы предположили, что это возможно связано с отсутствием недвижимости у данных клиентов, поэтому мы приняли решение заменить пропуски на 0 и изменить тип данных на целочисленный. Также, мы обнуржили признаки, которые вряд ли помогут нам в решении нашей задачи, в частности 'RowNumber' (индекс строки в данных),'CustomerId' (уникальный идентификатор клиента),'Surname' (фамилия), поэтому, чтобы не нагружать модель лишней информацией, эти признаки мы удалили из датасета.\n",
    "\n",
    "С целью установления возможной мультиколлениарности рассматриваемых факторов, которая может стать причиной переробучения модели и увеличения сложности модели обучения, то есть факторов, которые имеют сильную связь друг с другом, мы посмотрели значения коэффициентов корреляции по рассматриваемым количественным переменным. Вместе с тем, мультиколлинеарность по количественным признакам не обнаружена."
   ]
  },
  {
   "cell_type": "markdown",
   "metadata": {},
   "source": [
    "<a id=\"exploration\"></a>\n",
    "# 2. Исследование задачи"
   ]
  },
  {
   "cell_type": "markdown",
   "metadata": {},
   "source": [
    "Рисуем гистограмму значений оттока и оставшихся клиентов\n"
   ]
  },
  {
   "cell_type": "code",
   "execution_count": 8,
   "metadata": {
    "scrolled": true
   },
   "outputs": [
    {
     "data": {
      "image/png": "[encoded data removed]",
      "text/plain": [
       "<Figure size 720x360 with 1 Axes>"
      ]
     },
     "metadata": {
      "needs_background": "light"
     },
     "output_type": "display_data"
    }
   ],
   "source": [
    "f, ax = plt.subplots(nrows=1, figsize=(10, 5))\n",
    "df['Exited'].value_counts(normalize=True).plot.bar()\n",
    "ax.set(title='Соотношение количества оставшихся и ушедших клиентов', xlabel= 'категория клиентов', ylabel = 'количество клиентов (удельный вес)');"
   ]
  },
  {
   "cell_type": "markdown",
   "metadata": {},
   "source": [
    "Соотношение количества ушедших из банка и оставшихся клиентов 1:4. Такое соотношение говорит о наличии дисбаланса классов."
   ]
  },
  {
   "cell_type": "code",
   "execution_count": 9,
   "metadata": {},
   "outputs": [
    {
     "data": {
      "image/png": "[encoded data removed]",
      "text/plain": [
       "<Figure size 1080x432 with 1 Axes>"
      ]
     },
     "metadata": {
      "needs_background": "light"
     },
     "output_type": "display_data"
    }
   ],
   "source": [
    "f, ax = plt.subplots(nrows=1, figsize=(15, 6))\n",
    "df.groupby('Age')['Exited'].sum().plot.bar()\n",
    "ax.set(title='Соотношение оттока и возраста ушедших клиентов', xlabel= 'возраст клиентов', ylabel = 'количество ушедших клиентов');"
   ]
  },
  {
   "cell_type": "markdown",
   "metadata": {},
   "source": [
    "По гистограмме мы наблюдаем нормальное распределение. Больше всего уходит клиентов в возрасте от 39 до 50 лет."
   ]
  },
  {
   "cell_type": "markdown",
   "metadata": {},
   "source": [
    "Вместе с тем, для того, чтобы делать какие-либо выводы о зависимости признака (возраст) и целевой переменной по графику распределения, необходимо построить распределение признака у альтернативного значения целевого значения, то есть 0."
   ]
  },
  {
   "cell_type": "code",
   "execution_count": 10,
   "metadata": {
    "scrolled": false
   },
   "outputs": [
    {
     "data": {
      "image/png": "[encoded data removed]",
      "text/plain": [
       "<Figure size 1080x432 with 1 Axes>"
      ]
     },
     "metadata": {
      "needs_background": "light"
     },
     "output_type": "display_data"
    }
   ],
   "source": [
    "f, ax = plt.subplots(nrows=1, figsize=(15, 6))\n",
    "df.query('Exited == 0').groupby('Age')['Exited'].count().plot.bar()\n",
    "ax.set(title='Соотношение количества и возраста оставшихся клиентов', xlabel= 'возраст клиентов', ylabel = 'количество оставшихся клиентов');"
   ]
  },
  {
   "cell_type": "markdown",
   "metadata": {},
   "source": [
    "здесь мы также наблюдаем нормальное распределение, однако возрастной диапазон клиентов отличается, большинство оставшихся клиентов в возрасте от 28 до 44 лет."
   ]
  },
  {
   "cell_type": "markdown",
   "metadata": {},
   "source": [
    "Однако, для закрепления сформированной гипотезы, следует провести статистический тест на равенство средних двух выборок, а именно значения признака (возраст), разделенные по целевому значению 0 и 1."
   ]
  },
  {
   "cell_type": "markdown",
   "metadata": {},
   "source": [
    "Проверим гипотезу, что средний возраст двух категорий клиентов одинаковый. Здесь мы выясняем, есть ли разница между совокупностями, поэтому нулевая гипотеза должна быть такая: «нет, разницы нет, то есть исследуемые параметры равны». Исходя из этого ниже следуют нулевая и альтернативная гипотезы, альтернативная, соответсвтенно, прямо противоположная."
   ]
  },
  {
   "cell_type": "markdown",
   "metadata": {},
   "source": [
    "H0 - средний возраст клиентов ушедших и оставшихся клиентов не различается.\n",
    "\n",
    "H1 - средний возраст клиентов ушедших и оставшихся клиентов различается."
   ]
  },
  {
   "cell_type": "code",
   "execution_count": 11,
   "metadata": {},
   "outputs": [],
   "source": [
    "df_1 = df.query('Exited == 1')\n",
    "df_0 = df.query('Exited == 0')\n",
    "df_1_age = df_1['Age']\n",
    "df_0_age = df_0['Age']\n"
   ]
  },
  {
   "cell_type": "markdown",
   "metadata": {},
   "source": [
    "перед проведением проверки гипотезы через Т-критерий Стьюдента сравним дисперсии двух рассматриваемых выборок, и если они отличаются более, чем на 5%, то считаем отличие значимым и параметр equal_var задаем равным False"
   ]
  },
  {
   "cell_type": "code",
   "execution_count": 12,
   "metadata": {},
   "outputs": [],
   "source": [
    "variance_df_1 = np.var(df_1_age, ddof=1)\n",
    "variance_df_0 = np.var(df_0_age, ddof=1)"
   ]
  },
  {
   "cell_type": "code",
   "execution_count": 13,
   "metadata": {},
   "outputs": [],
   "source": [
    "variance_difference = ((variance_df_1-variance_df_0)/variance_df_0)*100"
   ]
  },
  {
   "cell_type": "code",
   "execution_count": 14,
   "metadata": {
    "scrolled": true
   },
   "outputs": [
    {
     "data": {
      "text/plain": [
       "-7.05684764156979"
      ]
     },
     "execution_count": 14,
     "metadata": {},
     "output_type": "execute_result"
    }
   ],
   "source": [
    "variance_difference"
   ]
  },
  {
   "cell_type": "markdown",
   "metadata": {},
   "source": [
    "мы видим, что разница составляет более 7%"
   ]
  },
  {
   "cell_type": "code",
   "execution_count": 15,
   "metadata": {},
   "outputs": [],
   "source": [
    "from scipy import stats as st\n",
    "alpha = 0.05 "
   ]
  },
  {
   "cell_type": "code",
   "execution_count": 16,
   "metadata": {},
   "outputs": [],
   "source": [
    "results = st.ttest_ind(\n",
    "    df_1_age, \n",
    "    df_0_age, equal_var = False)"
   ]
  },
  {
   "cell_type": "code",
   "execution_count": 17,
   "metadata": {
    "scrolled": true
   },
   "outputs": [
    {
     "name": "stdout",
     "output_type": "stream",
     "text": [
      "p-значение: 4.7127272656641046e-179\n"
     ]
    }
   ],
   "source": [
    "print('p-значение:', results.pvalue)"
   ]
  },
  {
   "cell_type": "code",
   "execution_count": 18,
   "metadata": {
    "scrolled": true
   },
   "outputs": [
    {
     "name": "stdout",
     "output_type": "stream",
     "text": [
      "Средний возраст ушедших и оставшихся клиентов различается, так как значение статистичекой значимости меньше критического уровня статистической  значимости, поэтому мы можем опровергнуть нулевую гипотезу.\n"
     ]
    }
   ],
   "source": [
    "if (results.pvalue < alpha):\n",
    "    print(\"Средний возраст ушедших и оставшихся клиентов различается, так как значение статистичекой значимости меньше критического уровня статистической  значимости, поэтому мы можем опровергнуть нулевую гипотезу.\")\n",
    "else:\n",
    "    print(\"Средний возраст ушедших и оставшихся клиентов не различается, так как значение статистической значимости больше критического уровня статистической  значимости, поэтому мы не можем опровергнуть нулевую гипотезу.\")"
   ]
  },
  {
   "cell_type": "markdown",
   "metadata": {},
   "source": [
    "таким образом мы можем сделать вывод, что между возрастом клиентов и целевым признаком определенно имеется зависимость"
   ]
  },
  {
   "cell_type": "code",
   "execution_count": 19,
   "metadata": {
    "scrolled": false
   },
   "outputs": [
    {
     "data": {
      "image/png": "[encoded data removed]",
      "text/plain": [
       "<Figure size 720x360 with 1 Axes>"
      ]
     },
     "metadata": {
      "needs_background": "light"
     },
     "output_type": "display_data"
    }
   ],
   "source": [
    "f, ax = plt.subplots(nrows=1, figsize=(10, 5))\n",
    "df.groupby('Exited')['Balance'].median().plot.bar()\n",
    "ax.set(title='Сравнение денежного баланса у оставшихся и ушедших клиентов', xlabel= 'категория клиентов', ylabel = 'медианное знаение баланса');"
   ]
  },
  {
   "cell_type": "markdown",
   "metadata": {},
   "source": [
    "мы можем видеть, что разница не столь существенна, но значение медианы баланса немного выше у тех, кто ушел."
   ]
  },
  {
   "cell_type": "markdown",
   "metadata": {},
   "source": [
    "Посмотрим, как зависит наличие недвижимости и отток клиентов "
   ]
  },
  {
   "cell_type": "code",
   "execution_count": 20,
   "metadata": {
    "scrolled": false
   },
   "outputs": [
    {
     "data": {
      "image/png": "[encoded data removed]",
      "text/plain": [
       "<Figure size 1080x432 with 1 Axes>"
      ]
     },
     "metadata": {
      "needs_background": "light"
     },
     "output_type": "display_data"
    }
   ],
   "source": [
    "f, ax = plt.subplots(nrows=1, figsize=(15, 6))\n",
    "df.groupby('Tenure')['Exited'].sum().plot.bar()\n",
    "ax.set(title='Наличие недвижимости и отток клиентов', xlabel= 'количество недвижимости', ylabel = 'количество ушедших клиентов');"
   ]
  },
  {
   "cell_type": "markdown",
   "metadata": {},
   "source": [
    "Можем видеть, что те, у кого отсутствует недвижимость, уходят чаще других."
   ]
  },
  {
   "cell_type": "markdown",
   "metadata": {},
   "source": [
    "Вместе с тем, для того, чтобы делать какие-либо выводы о зависимости признака (количество недвижимости) и целевой переменной, необходимо построить распределение признака у альтернативного значения целевого значения, то есть 0."
   ]
  },
  {
   "cell_type": "code",
   "execution_count": 21,
   "metadata": {},
   "outputs": [
    {
     "data": {
      "image/png": "[encoded data removed]",
      "text/plain": [
       "<Figure size 1080x432 with 1 Axes>"
      ]
     },
     "metadata": {
      "needs_background": "light"
     },
     "output_type": "display_data"
    }
   ],
   "source": [
    "f, ax = plt.subplots(nrows=1, figsize=(15, 6))\n",
    "df.query('Exited == 0').groupby('Tenure')['Exited'].count().plot.bar()\n",
    "ax.set(title='Наличие недвжимости и \"лояльность\" клиентов', xlabel= 'количество недвижимости', ylabel = 'количество отсавшихся клиентов');"
   ]
  },
  {
   "cell_type": "markdown",
   "metadata": {},
   "source": [
    "<div class=\"alert alert-success\">\n",
    "<b>Комментарий ревьюера:</b>\n",
    "\n",
    "Обрати внимание, что наши действия повторяются, это говорит о том, что мы можем создать функцию для построения графиков. Тем самым оптимизировав свой код.\n",
    "    \n",
    "</div>"
   ]
  },
  {
   "cell_type": "markdown",
   "metadata": {},
   "source": [
    "видим, что существенного отличия между двумя распределениями нет, поэтому мы не можем однозначно утверждать, что количество недвижимости влияет на отток клиентов"
   ]
  },
  {
   "cell_type": "markdown",
   "metadata": {},
   "source": [
    "#### Избавляемся от категориальных признаков методом One hot encoder"
   ]
  },
  {
   "cell_type": "code",
   "execution_count": 22,
   "metadata": {},
   "outputs": [],
   "source": [
    "df_ohe = pd.get_dummies(df, drop_first=True)"
   ]
  },
  {
   "cell_type": "markdown",
   "metadata": {},
   "source": [
    "<div class=\"alert alert-success\">\n",
    "<b>Комментарий ревьюера:</b>\n",
    "\n",
    "Лучше всего явным образом указывать категориальные переменные в методе `get_dummies`, чтобы случайным образом не создать дополнительные не нужные переменные.    \n",
    "</div>"
   ]
  },
  {
   "cell_type": "code",
   "execution_count": 23,
   "metadata": {},
   "outputs": [],
   "source": [
    "target=df_ohe['Exited'] # Целевой признак\n",
    "features=df_ohe.drop(['Exited'],axis=1) # Признаки"
   ]
  },
  {
   "cell_type": "markdown",
   "metadata": {},
   "source": [
    "Разделим исходные данные на обучающую, валидационную и тестовую выборки."
   ]
  },
  {
   "cell_type": "markdown",
   "metadata": {},
   "source": [
    "60% отводим под обучающую выборку, а 40 % на валидационную"
   ]
  },
  {
   "cell_type": "code",
   "execution_count": 24,
   "metadata": {},
   "outputs": [],
   "source": [
    "df_train, df_valid = train_test_split(df_ohe, test_size=0.4, random_state=12345)"
   ]
  },
  {
   "cell_type": "markdown",
   "metadata": {},
   "source": [
    "Далее, половину из оставшихся 40% отдаем на валидационную, другую половину – на тестовую. Таким образом, соотношение выборок в процентном выражении будет следующим: 60/20/20."
   ]
  },
  {
   "cell_type": "code",
   "execution_count": 25,
   "metadata": {},
   "outputs": [],
   "source": [
    "df_valid, df_test = train_test_split(df_valid, test_size=0.5, random_state=12345)"
   ]
  },
  {
   "cell_type": "markdown",
   "metadata": {},
   "source": [
    "посмотрим также на размеры выборок"
   ]
  },
  {
   "cell_type": "markdown",
   "metadata": {},
   "source": [
    "<div class=\"alert alert-success\">\n",
    "<b>Комментарий ревьюера:</b>\n",
    "\n",
    "    \n",
    "В целом выборка разделена верно. Здорово, что показываем итоговое разделение по данным, в том числе можно было подписать их текстом.\n",
    "    \n",
    "Я бы рекомендовал бы ещё использовать атрибут `stratify` для целевой переменной. Он дает нам безопасность сохранения 20% значений равного нужного нам количества классов в целевой переменной.\n",
    "    \n",
    "</div>"
   ]
  },
  {
   "cell_type": "code",
   "execution_count": 26,
   "metadata": {},
   "outputs": [
    {
     "data": {
      "text/plain": [
       "(6000, 12)"
      ]
     },
     "execution_count": 26,
     "metadata": {},
     "output_type": "execute_result"
    }
   ],
   "source": [
    "df_train.shape"
   ]
  },
  {
   "cell_type": "code",
   "execution_count": 27,
   "metadata": {},
   "outputs": [
    {
     "data": {
      "text/plain": [
       "(2000, 12)"
      ]
     },
     "execution_count": 27,
     "metadata": {},
     "output_type": "execute_result"
    }
   ],
   "source": [
    "df_valid.shape"
   ]
  },
  {
   "cell_type": "code",
   "execution_count": 28,
   "metadata": {
    "scrolled": true
   },
   "outputs": [
    {
     "data": {
      "text/plain": [
       "(2000, 12)"
      ]
     },
     "execution_count": 28,
     "metadata": {},
     "output_type": "execute_result"
    }
   ],
   "source": [
    "df_test.shape"
   ]
  },
  {
   "cell_type": "markdown",
   "metadata": {},
   "source": [
    "<div class=\"alert alert-success\">\n",
    "<b>Комментарий ревьюера:</b>\n",
    "\n",
    "    \n",
    "Можно также подписать текстом, какое количество каждой выборки у нас получилось. \n",
    "    \n",
    "</div>"
   ]
  },
  {
   "cell_type": "markdown",
   "metadata": {},
   "source": [
    "как видим, выборки не маленькие, но и недостаточно большие, чтобы не опасаться переобучения модели."
   ]
  },
  {
   "cell_type": "markdown",
   "metadata": {},
   "source": [
    "Подготовим фичи и целевые признаки обучающей,валидационной и тестовой выборок"
   ]
  },
  {
   "cell_type": "code",
   "execution_count": 29,
   "metadata": {},
   "outputs": [],
   "source": [
    "features_train = df_train.drop('Exited', axis=1)\n",
    "target_train = df_train['Exited']\n",
    "\n",
    "features_valid = df_valid.drop('Exited', axis=1)\n",
    "target_valid = df_valid['Exited']\n",
    "\n",
    "features_test = df_test.drop(['Exited'], axis=1)\n",
    "target_test = df_test['Exited']"
   ]
  },
  {
   "cell_type": "markdown",
   "metadata": {},
   "source": [
    "Стандартизируем выборки, т.к существует большая разница в значениях, например возраст и баланс. "
   ]
  },
  {
   "cell_type": "code",
   "execution_count": 30,
   "metadata": {},
   "outputs": [],
   "source": [
    "numeric=['CreditScore','Age','Tenure','Balance','NumOfProducts','HasCrCard','IsActiveMember', 'EstimatedSalary']\n",
    "scaler=StandardScaler()\n",
    "scaler.fit(features_train[numeric])\n",
    "features_train[numeric]=scaler.transform(features_train[numeric])\n",
    "features_valid[numeric]=scaler.transform(features_valid[numeric])\n",
    "features_test[numeric]=scaler.transform(features_test[numeric])"
   ]
  },
  {
   "cell_type": "markdown",
   "metadata": {},
   "source": [
    "### Построение моделей без учета дисбаланса классов"
   ]
  },
  {
   "cell_type": "markdown",
   "metadata": {},
   "source": [
    "### Дерево решений"
   ]
  },
  {
   "cell_type": "markdown",
   "metadata": {},
   "source": [
    "С помощью цикла найдем лучшее значение гиперпораметра max_depth\n"
   ]
  },
  {
   "cell_type": "code",
   "execution_count": 31,
   "metadata": {
    "scrolled": true
   },
   "outputs": [
    {
     "name": "stdout",
     "output_type": "stream",
     "text": [
      "depth = 1:\t0.0\n",
      "depth = 2:\t0.5217391304347825\n",
      "depth = 3:\t0.4234875444839857\n",
      "depth = 4:\t0.5528700906344411\n",
      "depth = 5:\t0.5406249999999999\n",
      "depth = 6:\t0.5696969696969697\n",
      "depth = 7:\t0.5320813771517998\n",
      "depth = 8:\t0.5449010654490106\n",
      "depth = 9:\t0.5786516853932585\n",
      "depth = 10:\t0.528995756718529\n",
      "depth = 11:\t0.5201072386058981\n",
      "depth = 12:\t0.5013054830287207\n",
      "depth = 13:\t0.5259067357512954\n",
      "depth = 14:\t0.48391248391248387\n",
      "depth = 15:\t0.5025125628140703\n",
      "depth = 16:\t0.491183879093199\n",
      "depth = 17:\t0.47160493827160493\n",
      "depth = 18:\t0.49014778325123154\n",
      "depth = 19:\t0.4921212121212121\n",
      "depth = 20:\t0.5024154589371981\n",
      "Лучшая глубина дерева: 9 Лучшее значение f1: 0.5786516853932585\n"
     ]
    }
   ],
   "source": [
    "best_depth = 0\n",
    "best_result = 0\n",
    "for depth in range(1, 21):\n",
    "    model = DecisionTreeClassifier(max_depth=depth, random_state=12345)\n",
    "    model.fit(features_train, target_train)\n",
    "    predictions_valid = model.predict(features_valid)\n",
    "    result = f1_score(target_valid,predictions_valid)\n",
    "    print(f\"depth = {depth}:\\t{result}\")\n",
    "    if result > best_result:\n",
    "        best_depth = depth\n",
    "        best_result = result\n",
    "print('Лучшая глубина дерева:', best_depth,'Лучшее значение f1:', best_result)"
   ]
  },
  {
   "cell_type": "markdown",
   "metadata": {},
   "source": [
    "Как видим, лучшее значение max_depth=9, при котором F1=0,578"
   ]
  },
  {
   "cell_type": "markdown",
   "metadata": {},
   "source": [
    "### Случайный лес"
   ]
  },
  {
   "cell_type": "markdown",
   "metadata": {},
   "source": [
    "Снова с помощью цикла найдем лучший гиперпораметр max_depth уже для случайного леса\n"
   ]
  },
  {
   "cell_type": "code",
   "execution_count": 32,
   "metadata": {},
   "outputs": [
    {
     "name": "stdout",
     "output_type": "stream",
     "text": [
      "max_depth = 1:\t0.0\n",
      "max_depth = 2:\t0.2\n",
      "max_depth = 3:\t0.25102880658436216\n",
      "max_depth = 4:\t0.476843910806175\n",
      "max_depth = 5:\t0.4727891156462586\n",
      "max_depth = 6:\t0.5463258785942492\n",
      "max_depth = 7:\t0.5408805031446541\n",
      "max_depth = 8:\t0.5527156549520766\n",
      "max_depth = 9:\t0.5800604229607251\n",
      "max_depth = 10:\t0.5735963581183612\n",
      "max_depth = 11:\t0.5692541856925418\n",
      "max_depth = 12:\t0.5884057971014492\n",
      "max_depth = 13:\t0.5863095238095238\n",
      "max_depth = 14:\t0.5677233429394813\n",
      "max_depth = 15:\t0.5836909871244635\n",
      "max_depth = 16:\t0.5788712011577425\n",
      "max_depth = 17:\t0.576923076923077\n",
      "max_depth = 18:\t0.5595238095238096\n",
      "max_depth = 19:\t0.5777777777777778\n",
      "max_depth = 20:\t0.5438066465256799\n",
      "Лучший показатель depth: 12 Лучшее значение F1: 0.5884057971014492\n"
     ]
    }
   ],
   "source": [
    "best_depth = 0\n",
    "best_result = 0\n",
    "for depth in range(1, 21):\n",
    "    model = RandomForestClassifier(max_depth=depth, random_state=12345)\n",
    "    model.fit(features_train, target_train)\n",
    "    predictions_valid = model.predict(features_valid)\n",
    "    result = f1_score(target_valid,predictions_valid)\n",
    "    print(f\"max_depth = {depth}:\\t{result}\")    \n",
    "    if result > best_result:\n",
    "        best_depth = depth\n",
    "        best_result = result\n",
    "print('Лучший показатель depth:', best_depth,'Лучшее значение F1:', best_result)"
   ]
  },
  {
   "cell_type": "code",
   "execution_count": 33,
   "metadata": {
    "scrolled": false
   },
   "outputs": [
    {
     "name": "stdout",
     "output_type": "stream",
     "text": [
      "n_estimators = 1:\t0.5269761606022584\n",
      "n_estimators = 3:\t0.5786516853932585\n",
      "n_estimators = 5:\t0.5726495726495726\n",
      "n_estimators = 7:\t0.5841726618705035\n",
      "n_estimators = 9:\t0.5959302325581396\n",
      "n_estimators = 11:\t0.5875542691751084\n",
      "n_estimators = 13:\t0.5935672514619883\n",
      "n_estimators = 15:\t0.5946745562130178\n",
      "n_estimators = 17:\t0.5925925925925927\n",
      "n_estimators = 19:\t0.5943536404160475\n",
      "n_estimators = 21:\t0.5937031484257871\n",
      "n_estimators = 23:\t0.5915915915915916\n",
      "n_estimators = 25:\t0.5894736842105264\n",
      "n_estimators = 27:\t0.5834586466165413\n",
      "n_estimators = 29:\t0.5770392749244713\n",
      "n_estimators = 31:\t0.5722983257229833\n",
      "n_estimators = 33:\t0.5744680851063829\n",
      "n_estimators = 35:\t0.5800604229607251\n",
      "n_estimators = 37:\t0.5907046476761619\n",
      "n_estimators = 39:\t0.5912518853695324\n",
      "n_estimators = 41:\t0.5891238670694864\n",
      "n_estimators = 43:\t0.5975975975975975\n",
      "n_estimators = 45:\t0.5891238670694864\n",
      "n_estimators = 47:\t0.5954887218045113\n",
      "n_estimators = 49:\t0.5903614457831324\n",
      "n_estimators = 51:\t0.5805471124620061\n",
      "n_estimators = 53:\t0.5866261398176292\n",
      "n_estimators = 55:\t0.5900151285930408\n",
      "n_estimators = 57:\t0.5835866261398177\n",
      "n_estimators = 59:\t0.583206106870229\n",
      "n_estimators = 61:\t0.5840978593272171\n",
      "n_estimators = 63:\t0.5866261398176292\n",
      "n_estimators = 65:\t0.5887708649468891\n",
      "n_estimators = 67:\t0.5806451612903226\n",
      "n_estimators = 69:\t0.5805471124620061\n",
      "n_estimators = 71:\t0.5801526717557252\n",
      "n_estimators = 73:\t0.5745007680491552\n",
      "n_estimators = 75:\t0.5692307692307692\n",
      "n_estimators = 77:\t0.5723076923076923\n",
      "n_estimators = 79:\t0.5749235474006116\n",
      "n_estimators = 81:\t0.5770992366412214\n",
      "n_estimators = 83:\t0.578386605783866\n",
      "n_estimators = 85:\t0.5814307458143075\n",
      "n_estimators = 87:\t0.5779816513761468\n",
      "n_estimators = 89:\t0.5766871165644172\n",
      "n_estimators = 91:\t0.5779816513761468\n",
      "n_estimators = 93:\t0.5758039816232772\n",
      "n_estimators = 95:\t0.5805471124620061\n",
      "n_estimators = 97:\t0.5740458015267176\n",
      "n_estimators = 99:\t0.5801526717557252\n",
      "Лучший показатель количества деревьев: 43 Лучшее значение F1: 0.5975975975975975\n"
     ]
    }
   ],
   "source": [
    "best_estim = 0\n",
    "best_result = 0\n",
    "for estim in range(1, 101,2):\n",
    "    model = RandomForestClassifier(n_estimators=estim, max_depth=12, random_state=12345)\n",
    "    model.fit(features_train, target_train)\n",
    "    predictions_valid = model.predict(features_valid)\n",
    "    result = f1_score(target_valid,predictions_valid)\n",
    "    print(f\"n_estimators = {estim}:\\t{result}\")    \n",
    "    if result > best_result:\n",
    "        best_estim = estim\n",
    "        best_result = result\n",
    "print('Лучший показатель количества деревьев:', best_estim,'Лучшее значение F1:', best_result)"
   ]
  },
  {
   "cell_type": "markdown",
   "metadata": {},
   "source": [
    "таким образом, в лучше модели случайного леса количество деревьев равно 43, а глубина дерева равна 12, F1 при этом равен 0,597, то есть лучше, чем у дерева решений"
   ]
  },
  {
   "cell_type": "code",
   "execution_count": 61,
   "metadata": {},
   "outputs": [
    {
     "name": "stdout",
     "output_type": "stream",
     "text": [
      "0 0\n",
      "0 1\n",
      "0 2\n",
      "0 3\n",
      "0 4\n",
      "0 5\n",
      "0 6\n",
      "0 7\n",
      "0 8\n",
      "0 9\n",
      "0 10\n",
      "0 11\n",
      "0 12\n",
      "0 13\n",
      "0 14\n",
      "0 15\n",
      "0 16\n",
      "0 17\n",
      "0 18\n",
      "0 19\n",
      "1 0\n",
      "1 1\n",
      "1 2\n",
      "1 3\n",
      "1 4\n",
      "1 5\n",
      "1 6\n",
      "1 7\n",
      "1 8\n",
      "1 9\n",
      "1 10\n",
      "1 11\n",
      "1 12\n",
      "1 13\n",
      "1 14\n",
      "1 15\n",
      "1 16\n",
      "1 17\n",
      "1 18\n",
      "1 19\n",
      "2 0\n",
      "2 1\n",
      "2 2\n",
      "2 3\n",
      "2 4\n",
      "2 5\n",
      "2 6\n",
      "2 7\n",
      "2 8\n",
      "2 9\n",
      "2 10\n",
      "2 11\n",
      "2 12\n",
      "2 13\n",
      "2 14\n",
      "2 15\n",
      "2 16\n",
      "2 17\n",
      "2 18\n",
      "2 19\n",
      "3 0\n",
      "3 1\n",
      "3 2\n",
      "3 3\n",
      "3 4\n",
      "3 5\n",
      "3 6\n",
      "3 7\n",
      "3 8\n",
      "3 9\n",
      "3 10\n",
      "3 11\n",
      "3 12\n",
      "3 13\n",
      "3 14\n",
      "3 15\n",
      "3 16\n",
      "3 17\n",
      "3 18\n",
      "3 19\n",
      "4 0\n",
      "4 1\n",
      "4 2\n",
      "4 3\n",
      "4 4\n",
      "4 5\n",
      "4 6\n",
      "4 7\n",
      "4 8\n",
      "4 9\n",
      "4 10\n",
      "4 11\n",
      "4 12\n",
      "4 13\n",
      "4 14\n",
      "4 15\n",
      "4 16\n",
      "4 17\n",
      "4 18\n",
      "4 19\n",
      "5 0\n",
      "5 1\n",
      "5 2\n",
      "5 3\n",
      "5 4\n",
      "5 5\n",
      "5 6\n",
      "5 7\n",
      "5 8\n",
      "5 9\n",
      "5 10\n",
      "5 11\n",
      "5 12\n",
      "5 13\n",
      "5 14\n",
      "5 15\n",
      "5 16\n",
      "5 17\n",
      "5 18\n",
      "5 19\n",
      "6 0\n",
      "6 1\n",
      "6 2\n",
      "6 3\n",
      "6 4\n",
      "6 5\n",
      "6 6\n",
      "6 7\n",
      "6 8\n",
      "6 9\n",
      "6 10\n",
      "6 11\n",
      "6 12\n",
      "6 13\n",
      "6 14\n",
      "6 15\n",
      "6 16\n",
      "6 17\n",
      "6 18\n",
      "6 19\n",
      "7 0\n",
      "7 1\n",
      "7 2\n",
      "7 3\n",
      "7 4\n",
      "7 5\n",
      "7 6\n",
      "7 7\n",
      "7 8\n",
      "7 9\n",
      "7 10\n",
      "7 11\n",
      "7 12\n",
      "7 13\n",
      "7 14\n",
      "7 15\n",
      "7 16\n",
      "7 17\n",
      "7 18\n",
      "7 19\n",
      "8 0\n",
      "8 1\n",
      "8 2\n",
      "8 3\n",
      "8 4\n",
      "8 5\n",
      "8 6\n",
      "8 7\n",
      "8 8\n",
      "8 9\n",
      "8 10\n",
      "8 11\n",
      "8 12\n",
      "8 13\n",
      "8 14\n",
      "8 15\n",
      "8 16\n",
      "8 17\n",
      "8 18\n",
      "8 19\n",
      "9 0\n",
      "9 1\n",
      "9 2\n",
      "9 3\n",
      "9 4\n",
      "9 5\n",
      "9 6\n",
      "9 7\n",
      "9 8\n",
      "9 9\n",
      "9 10\n",
      "9 11\n",
      "9 12\n",
      "9 13\n",
      "9 14\n",
      "9 15\n",
      "9 16\n",
      "9 17\n",
      "9 18\n",
      "9 19\n"
     ]
    }
   ],
   "source": [
    "for i in range(10):\n",
    "    for j in range(20):\n",
    "        print(i, j)"
   ]
  },
  {
   "cell_type": "markdown",
   "metadata": {},
   "source": [
    "### Логистическая регрессия"
   ]
  },
  {
   "cell_type": "markdown",
   "metadata": {},
   "source": [
    "выберем оптимальное значение max_iter"
   ]
  },
  {
   "cell_type": "code",
   "execution_count": 34,
   "metadata": {},
   "outputs": [
    {
     "name": "stdout",
     "output_type": "stream",
     "text": [
      "Количество итерраций: 1 F1: 0.23166023166023164\n",
      "Количество итерраций: 2 F1: 0.3264604810996563\n",
      "Количество итерраций: 3 F1: 0.3316412859560068\n",
      "Количество итерраций: 4 F1: 0.33389544688026984\n",
      "Количество итерраций: 5 F1: 0.33389544688026984\n",
      "Количество итерраций: 6 F1: 0.33389544688026984\n",
      "Количество итерраций: 7 F1: 0.33389544688026984\n",
      "Количество итерраций: 8 F1: 0.33389544688026984\n",
      "Количество итерраций: 9 F1: 0.33389544688026984\n",
      "Количество итерраций: 10 F1: 0.33389544688026984\n",
      "Количество итерраций: 11 F1: 0.33389544688026984\n",
      "Количество итерраций: 12 F1: 0.33389544688026984\n",
      "Количество итерраций: 13 F1: 0.33389544688026984\n",
      "Количество итерраций: 14 F1: 0.33389544688026984\n",
      "Количество итерраций: 15 F1: 0.33389544688026984\n",
      "Количество итерраций: 16 F1: 0.33389544688026984\n",
      "Количество итерраций: 17 F1: 0.33389544688026984\n",
      "Количество итерраций: 18 F1: 0.33389544688026984\n",
      "Количество итерраций: 19 F1: 0.33389544688026984\n",
      "Количество итерраций: 20 F1: 0.33389544688026984\n",
      "Количество итерраций: 21 F1: 0.33389544688026984\n",
      "Количество итерраций: 22 F1: 0.33389544688026984\n",
      "Количество итерраций: 23 F1: 0.33389544688026984\n",
      "Количество итерраций: 24 F1: 0.33389544688026984\n",
      "Количество итерраций: 25 F1: 0.33389544688026984\n",
      "Количество итерраций: 26 F1: 0.33389544688026984\n",
      "Количество итерраций: 27 F1: 0.33389544688026984\n",
      "Количество итерраций: 28 F1: 0.33389544688026984\n",
      "Количество итерраций: 29 F1: 0.33389544688026984\n",
      "Количество итерраций: 30 F1: 0.33389544688026984\n",
      "Количество итерраций: 31 F1: 0.33389544688026984\n",
      "Количество итерраций: 32 F1: 0.33389544688026984\n",
      "Количество итерраций: 33 F1: 0.33389544688026984\n",
      "Количество итерраций: 34 F1: 0.33389544688026984\n",
      "Количество итерраций: 35 F1: 0.33389544688026984\n",
      "Количество итерраций: 36 F1: 0.33389544688026984\n",
      "Количество итерраций: 37 F1: 0.33389544688026984\n",
      "Количество итерраций: 38 F1: 0.33389544688026984\n",
      "Количество итерраций: 39 F1: 0.33389544688026984\n",
      "Количество итерраций: 40 F1: 0.33389544688026984\n",
      "Количество итерраций: 41 F1: 0.33389544688026984\n",
      "Количество итерраций: 42 F1: 0.33389544688026984\n",
      "Количество итерраций: 43 F1: 0.33389544688026984\n",
      "Количество итерраций: 44 F1: 0.33389544688026984\n",
      "Количество итерраций: 45 F1: 0.33389544688026984\n",
      "Количество итерраций: 46 F1: 0.33389544688026984\n",
      "Количество итерраций: 47 F1: 0.33389544688026984\n",
      "Количество итерраций: 48 F1: 0.33389544688026984\n",
      "Количество итерраций: 49 F1: 0.33389544688026984\n",
      "Количество итерраций: 50 F1: 0.33389544688026984\n",
      "Количество итерраций: 51 F1: 0.33389544688026984\n",
      "Количество итерраций: 52 F1: 0.33389544688026984\n",
      "Количество итерраций: 53 F1: 0.33389544688026984\n",
      "Количество итерраций: 54 F1: 0.33389544688026984\n",
      "Количество итерраций: 55 F1: 0.33389544688026984\n",
      "Количество итерраций: 56 F1: 0.33389544688026984\n",
      "Количество итерраций: 57 F1: 0.33389544688026984\n",
      "Количество итерраций: 58 F1: 0.33389544688026984\n",
      "Количество итерраций: 59 F1: 0.33389544688026984\n",
      "Количество итерраций: 60 F1: 0.33389544688026984\n",
      "Количество итерраций: 61 F1: 0.33389544688026984\n",
      "Количество итерраций: 62 F1: 0.33389544688026984\n",
      "Количество итерраций: 63 F1: 0.33389544688026984\n",
      "Количество итерраций: 64 F1: 0.33389544688026984\n",
      "Количество итерраций: 65 F1: 0.33389544688026984\n",
      "Количество итерраций: 66 F1: 0.33389544688026984\n",
      "Количество итерраций: 67 F1: 0.33389544688026984\n",
      "Количество итерраций: 68 F1: 0.33389544688026984\n",
      "Количество итерраций: 69 F1: 0.33389544688026984\n",
      "Количество итерраций: 70 F1: 0.33389544688026984\n",
      "Количество итерраций: 71 F1: 0.33389544688026984\n",
      "Количество итерраций: 72 F1: 0.33389544688026984\n",
      "Количество итерраций: 73 F1: 0.33389544688026984\n",
      "Количество итерраций: 74 F1: 0.33389544688026984\n",
      "Количество итерраций: 75 F1: 0.33389544688026984\n",
      "Количество итерраций: 76 F1: 0.33389544688026984\n",
      "Количество итерраций: 77 F1: 0.33389544688026984\n",
      "Количество итерраций: 78 F1: 0.33389544688026984\n",
      "Количество итерраций: 79 F1: 0.33389544688026984\n",
      "Количество итерраций: 80 F1: 0.33389544688026984\n",
      "Количество итерраций: 81 F1: 0.33389544688026984\n",
      "Количество итерраций: 82 F1: 0.33389544688026984\n",
      "Количество итерраций: 83 F1: 0.33389544688026984\n",
      "Количество итерраций: 84 F1: 0.33389544688026984\n",
      "Количество итерраций: 85 F1: 0.33389544688026984\n",
      "Количество итерраций: 86 F1: 0.33389544688026984\n",
      "Количество итерраций: 87 F1: 0.33389544688026984\n",
      "Количество итерраций: 88 F1: 0.33389544688026984\n",
      "Количество итерраций: 89 F1: 0.33389544688026984\n",
      "Количество итерраций: 90 F1: 0.33389544688026984\n",
      "Количество итерраций: 91 F1: 0.33389544688026984\n",
      "Количество итерраций: 92 F1: 0.33389544688026984\n",
      "Количество итерраций: 93 F1: 0.33389544688026984\n",
      "Количество итерраций: 94 F1: 0.33389544688026984\n",
      "Количество итерраций: 95 F1: 0.33389544688026984\n",
      "Количество итерраций: 96 F1: 0.33389544688026984\n",
      "Количество итерраций: 97 F1: 0.33389544688026984\n",
      "Количество итерраций: 98 F1: 0.33389544688026984\n",
      "Количество итерраций: 99 F1: 0.33389544688026984\n",
      "Количество итерраций: 100 F1: 0.33389544688026984\n",
      "Лучший показатель количества итерраций: 4 Лучшее значение F1: 0.33389544688026984\n"
     ]
    }
   ],
   "source": [
    "best_max_iter = 0\n",
    "best_result = 0\n",
    "\n",
    "for max_iter in range(1,101):\n",
    "    model = LogisticRegression(random_state=12345, max_iter=max_iter)\n",
    "    model.fit(features_train, target_train)\n",
    "    valid_predictions = model.predict(features_valid)\n",
    "    result = f1_score(target_valid,valid_predictions)\n",
    "    print('Количество итерраций:', max_iter,'F1:',result)\n",
    "    if result > best_result:\n",
    "        best_max_iter = max_iter\n",
    "        best_result = result\n",
    "\n",
    "print('Лучший показатель количества итерраций:', best_max_iter,'Лучшее значение F1:', best_result)"
   ]
  },
  {
   "cell_type": "markdown",
   "metadata": {},
   "source": [
    "значение F1 в логистической регрессии получилось значительно хуже, чем у деревьев"
   ]
  },
  {
   "cell_type": "markdown",
   "metadata": {},
   "source": [
    "### Вывод"
   ]
  },
  {
   "cell_type": "markdown",
   "metadata": {},
   "source": [
    "В ходе выполнения 2 шага мы исследовали баланс классов. Мы обнаружили, что соотношение количества ушедших из банка и оставшихся клиентов 1:4. Такое соотношение может говорить о наличии дисбаланса классов. \n",
    "\n",
    "Также посмотрели на зависимость целевого признака от других рассматриваемых признаков. Так, к примеру, мы обнаружили, что существует зависимость между целевым признаком и возрастом клиентов.\n",
    "\n",
    "кроме того, методом One hot Encoder мы избавились от категориальных признаков, а также стандартизировали рассматриваемые данные ввиду наличия большой разницы в значениях.\n",
    "\n",
    "Также, мы обучили модель без учёта дисбаланса, используя дерево решений, случайный лес и логистическую регрессию.\n",
    "\n",
    "Самый лучший результата показала модель случайного леса, при лучшем значении max_depth=12 и количестве деревьев -43, мы получили значение F1-меры =0,597, хуже всего себя показала логистическая регрессия, тут F1 = 0.33."
   ]
  },
  {
   "cell_type": "markdown",
   "metadata": {},
   "source": [
    "<a id=\"disbalance\"></a>\n",
    "# 3. Борьба с дисбалансом"
   ]
  },
  {
   "cell_type": "markdown",
   "metadata": {},
   "source": [
    "Используем технику Upsampling и увеличим количество ушедших клиентов(target==1)¶"
   ]
  },
  {
   "cell_type": "code",
   "execution_count": 35,
   "metadata": {},
   "outputs": [],
   "source": [
    "def upsampling (features,target,repeat):\n",
    "    #Разделим выборку по значениям целевой функции\n",
    "    target_one=target[target==1]\n",
    "    target_null=target[target==0]\n",
    "    features_one=features[target==1]\n",
    "    features_null=features[target==0]\n",
    "    \n",
    "    #Увеличиваем путем дублирования и соединяем обратно\n",
    "    upsampling_features=pd.concat([features_null]+[features_one]*repeat)\n",
    "    upsampling_target=pd.concat([target_null]+[target_one]*repeat)\n",
    "    \n",
    "    # Перемешиваем\n",
    "    upsampling_features,upsampling_target=shuffle(upsampling_features,upsampling_target,random_state=1234)\n",
    "    \n",
    "    return upsampling_features,upsampling_target"
   ]
  },
  {
   "cell_type": "code",
   "execution_count": 36,
   "metadata": {},
   "outputs": [],
   "source": [
    "features_balance_up,target_balance_up=upsampling(features_train,target_train,4)"
   ]
  },
  {
   "cell_type": "markdown",
   "metadata": {},
   "source": [
    "Используем технику Downsampling и уменьшим количество оставшихся клиентов(target==0)¶"
   ]
  },
  {
   "cell_type": "code",
   "execution_count": 37,
   "metadata": {},
   "outputs": [],
   "source": [
    "def downsampling(features,target,fraction):\n",
    "    features_null=features[target==0]\n",
    "    features_one=features[target==1]\n",
    "    target_null=target[target==0]\n",
    "    target_one=target[target==1]\n",
    "    \n",
    "    downsampling_features=pd.concat([features_null.sample(frac=0.4,random_state=1234)]+[features_one])\n",
    "    downsampling_target=pd.concat([target_null.sample(frac=0.4,random_state=1234)]+[target_one])\n",
    "    \n",
    "    downsampling_features,downsampling_target=shuffle(downsampling_features,downsampling_target,random_state=1234)\n",
    "    return downsampling_features,downsampling_target"
   ]
  },
  {
   "cell_type": "code",
   "execution_count": 38,
   "metadata": {},
   "outputs": [],
   "source": [
    "features_balance_down,target_balance_down=downsampling(features,target,0.4)"
   ]
  },
  {
   "cell_type": "markdown",
   "metadata": {},
   "source": [
    "Ввиду того, что количество данных не такое большое, принято решение, не использовать метод уменьшения выборки, к тому же результаты после его использования получались хуже, чем при использовании Upsamling, поэтому используем последний.\n"
   ]
  },
  {
   "cell_type": "markdown",
   "metadata": {},
   "source": [
    "#### Обучим разные модели с учетом дисбаланса и найдем лучшую"
   ]
  },
  {
   "cell_type": "markdown",
   "metadata": {},
   "source": [
    "Произведем те же вычисления, что производили без учета дисбаланса, используя дерево решений, случаный лес и логистическую регрессию"
   ]
  },
  {
   "cell_type": "markdown",
   "metadata": {},
   "source": [
    "#### Дерево решений"
   ]
  },
  {
   "cell_type": "code",
   "execution_count": 39,
   "metadata": {
    "scrolled": false
   },
   "outputs": [
    {
     "name": "stdout",
     "output_type": "stream",
     "text": [
      "depth = 1:\t0.4994903160040775\n",
      "depth = 2:\t0.541015625\n",
      "depth = 3:\t0.541015625\n",
      "depth = 4:\t0.5277777777777778\n",
      "depth = 5:\t0.5963791267305644\n",
      "depth = 6:\t0.5581835383159887\n",
      "depth = 7:\t0.5559999999999999\n",
      "depth = 8:\t0.538160469667319\n",
      "depth = 9:\t0.5284872298624754\n",
      "depth = 10:\t0.5149469623915139\n",
      "depth = 11:\t0.5270684371807968\n",
      "depth = 12:\t0.5015544041450777\n",
      "depth = 13:\t0.5026852846401718\n",
      "depth = 14:\t0.4910313901345292\n",
      "depth = 15:\t0.4826789838337182\n",
      "depth = 16:\t0.4777911164465786\n",
      "depth = 17:\t0.4690157958687728\n",
      "depth = 18:\t0.4730392156862745\n",
      "depth = 19:\t0.4645962732919255\n",
      "depth = 20:\t0.4746600741656366\n",
      "Лучшая глубина дерева: 5 Лучшее значение f1: 0.5963791267305644\n"
     ]
    }
   ],
   "source": [
    "best_depth = 0\n",
    "best_result = 0\n",
    "for depth in range(1, 21):\n",
    "    model = DecisionTreeClassifier(max_depth=depth, class_weight='balanced', random_state=12345)\n",
    "    model.fit(features_balance_up,target_balance_up)\n",
    "    predictions_valid = model.predict(features_valid)\n",
    "    result = f1_score(target_valid,predictions_valid)\n",
    "    print(f\"depth = {depth}:\\t{result}\")\n",
    "    if result > best_result:\n",
    "        best_depth = depth\n",
    "        best_result = result\n",
    "print('Лучшая глубина дерева:', best_depth,'Лучшее значение f1:', best_result)"
   ]
  },
  {
   "cell_type": "markdown",
   "metadata": {},
   "source": [
    "#### Случайный лес"
   ]
  },
  {
   "cell_type": "code",
   "execution_count": 40,
   "metadata": {
    "scrolled": true
   },
   "outputs": [
    {
     "name": "stdout",
     "output_type": "stream",
     "text": [
      "max_depth = 1:\t0.5115346038114343\n",
      "max_depth = 2:\t0.5776458951533134\n",
      "max_depth = 3:\t0.567741935483871\n",
      "max_depth = 4:\t0.5938144329896906\n",
      "max_depth = 5:\t0.6086956521739131\n",
      "max_depth = 6:\t0.5949748743718594\n",
      "max_depth = 7:\t0.6166328600405679\n",
      "max_depth = 8:\t0.6069246435845215\n",
      "max_depth = 9:\t0.6097814776274714\n",
      "max_depth = 10:\t0.6213592233009708\n",
      "max_depth = 11:\t0.6043956043956044\n",
      "max_depth = 12:\t0.5898305084745763\n",
      "max_depth = 13:\t0.6025492468134415\n",
      "max_depth = 14:\t0.5703611457036115\n",
      "max_depth = 15:\t0.5834363411619283\n",
      "max_depth = 16:\t0.575796178343949\n",
      "max_depth = 17:\t0.5774834437086092\n",
      "max_depth = 18:\t0.5699481865284973\n",
      "max_depth = 19:\t0.5785997357992073\n",
      "max_depth = 20:\t0.5634178905206944\n",
      "Лучший показатель depth: 10 Лучшее значение F1: 0.6213592233009708\n"
     ]
    }
   ],
   "source": [
    "best_depth = 0\n",
    "best_result = 0\n",
    "for depth in range(1, 21):\n",
    "    model = RandomForestClassifier(max_depth=depth, class_weight='balanced',random_state=12345)\n",
    "    model.fit(features_balance_up,target_balance_up)\n",
    "    predictions_valid = model.predict(features_valid)\n",
    "    result = f1_score(target_valid,predictions_valid)\n",
    "    print(f\"max_depth = {depth}:\\t{result}\")    \n",
    "    if result > best_result:\n",
    "        best_depth = depth\n",
    "        best_result = result\n",
    "print('Лучший показатель depth:', best_depth,'Лучшее значение F1:', best_result)"
   ]
  },
  {
   "cell_type": "code",
   "execution_count": 41,
   "metadata": {
    "scrolled": true
   },
   "outputs": [
    {
     "name": "stdout",
     "output_type": "stream",
     "text": [
      "n_estimators = 1:\t0.5510009532888465\n",
      "n_estimators = 3:\t0.5829145728643216\n",
      "n_estimators = 5:\t0.6052910052910053\n",
      "n_estimators = 7:\t0.591728525980912\n",
      "n_estimators = 9:\t0.6090621707060063\n",
      "n_estimators = 11:\t0.5974304068522484\n",
      "n_estimators = 13:\t0.5995717344753747\n",
      "n_estimators = 15:\t0.6000000000000001\n",
      "n_estimators = 17:\t0.6092572658772876\n",
      "n_estimators = 19:\t0.6139037433155079\n",
      "n_estimators = 21:\t0.6086021505376343\n",
      "n_estimators = 23:\t0.6127292340884573\n",
      "n_estimators = 25:\t0.6192017259978425\n",
      "n_estimators = 27:\t0.6162162162162163\n",
      "n_estimators = 29:\t0.625136612021858\n",
      "n_estimators = 31:\t0.6215921483097054\n",
      "n_estimators = 33:\t0.6210640608034745\n",
      "n_estimators = 35:\t0.6125541125541126\n",
      "n_estimators = 37:\t0.6183783783783783\n",
      "n_estimators = 39:\t0.623773173391494\n",
      "n_estimators = 41:\t0.6195652173913043\n",
      "n_estimators = 43:\t0.6254071661237784\n",
      "n_estimators = 45:\t0.6203904555314533\n",
      "n_estimators = 47:\t0.6240520043336945\n",
      "n_estimators = 49:\t0.6241900647948164\n",
      "n_estimators = 51:\t0.6285097192224621\n",
      "n_estimators = 53:\t0.6255411255411255\n",
      "n_estimators = 55:\t0.6210640608034745\n",
      "n_estimators = 57:\t0.6197183098591549\n",
      "n_estimators = 59:\t0.6259541984732824\n",
      "n_estimators = 61:\t0.6252723311546842\n",
      "n_estimators = 63:\t0.6230936819172113\n",
      "n_estimators = 65:\t0.6230936819172113\n",
      "n_estimators = 67:\t0.6259541984732824\n",
      "n_estimators = 69:\t0.6295081967213115\n",
      "n_estimators = 71:\t0.6256860592755213\n",
      "n_estimators = 73:\t0.6308871851040525\n",
      "n_estimators = 75:\t0.6293859649122807\n",
      "n_estimators = 77:\t0.6293859649122807\n",
      "n_estimators = 79:\t0.6278814489571899\n",
      "n_estimators = 81:\t0.623490669593853\n",
      "n_estimators = 83:\t0.6190998902305158\n",
      "n_estimators = 85:\t0.6197802197802197\n",
      "n_estimators = 87:\t0.6212952799121844\n",
      "n_estimators = 89:\t0.6249999999999999\n",
      "n_estimators = 91:\t0.6256860592755213\n",
      "n_estimators = 93:\t0.6229508196721312\n",
      "n_estimators = 95:\t0.6273224043715847\n",
      "n_estimators = 97:\t0.6265060240963854\n",
      "n_estimators = 99:\t0.6273224043715847\n",
      "Лучший показатель количества деревьев: 73 Лучшее значение F1: 0.6308871851040525\n"
     ]
    }
   ],
   "source": [
    "best_estim = 0\n",
    "best_result = 0\n",
    "for estim in range(1, 101,2):\n",
    "    model = RandomForestClassifier(n_estimators=estim, max_depth=10, class_weight='balanced',criterion='entropy', random_state=12345)\n",
    "    model.fit(features_balance_up,target_balance_up)\n",
    "    predictions_valid = model.predict(features_valid)\n",
    "    result = f1_score(target_valid,predictions_valid)\n",
    "    print(f\"n_estimators = {estim}:\\t{result}\")    \n",
    "    if result > best_result:\n",
    "        best_estim = estim\n",
    "        best_result = result\n",
    "print('Лучший показатель количества деревьев:', best_estim,'Лучшее значение F1:', best_result)"
   ]
  },
  {
   "cell_type": "markdown",
   "metadata": {},
   "source": [
    "#### Логистическая регрессия"
   ]
  },
  {
   "cell_type": "code",
   "execution_count": 42,
   "metadata": {
    "scrolled": false
   },
   "outputs": [
    {
     "name": "stdout",
     "output_type": "stream",
     "text": [
      "Количество итерраций: 1 F1: 0.48948696383515566\n",
      "Количество итерраций: 2 F1: 0.493595217762596\n",
      "Количество итерраций: 3 F1: 0.488013698630137\n",
      "Количество итерраций: 4 F1: 0.4888888888888888\n",
      "Количество итерраций: 5 F1: 0.4888888888888888\n",
      "Количество итерраций: 6 F1: 0.4888888888888888\n",
      "Количество итерраций: 7 F1: 0.4888888888888888\n",
      "Количество итерраций: 8 F1: 0.4888888888888888\n",
      "Количество итерраций: 9 F1: 0.4888888888888888\n",
      "Количество итерраций: 10 F1: 0.4888888888888888\n",
      "Лучший показатель количества итерраций: 2 Лучшее значение F1: 0.493595217762596\n"
     ]
    }
   ],
   "source": [
    "best_max_iter = 0\n",
    "best_result = 0\n",
    "\n",
    "for max_iter in range(1,11):\n",
    "    model = LogisticRegression(random_state=12345, class_weight='balanced', max_iter=max_iter)\n",
    "    model.fit(features_balance_up,target_balance_up)\n",
    "    valid_predictions = model.predict(features_valid)\n",
    "    result = f1_score(target_valid,valid_predictions)\n",
    "    print('Количество итерраций:', max_iter,'F1:',result)\n",
    "    if result > best_result:\n",
    "        best_max_iter = max_iter\n",
    "        best_result = result\n",
    "\n",
    "print('Лучший показатель количества итерраций:', best_max_iter,'Лучшее значение F1:', best_result)"
   ]
  },
  {
   "cell_type": "code",
   "execution_count": 43,
   "metadata": {
    "scrolled": false
   },
   "outputs": [
    {
     "name": "stdout",
     "output_type": "stream",
     "text": [
      "Solver: newton-cg Точность: 0.49238578680203043\n",
      "Solver: lbfgs Точность: 0.4913194444444445\n",
      "Solver: liblinear Точность: 0.493595217762596\n",
      "Solver: sag Точность: 0.46559999999999996\n",
      "Solver: saga Точность: 0.48583690987124467\n",
      "Лучшее значение solver: liblinear Лучшая точность: 0.493595217762596\n"
     ]
    }
   ],
   "source": [
    "best_solver = ''\n",
    "best_result = 0\n",
    "solvers = ['newton-cg', 'lbfgs', 'liblinear', 'sag', 'saga']\n",
    "for solve in solvers:\n",
    "    model = LogisticRegression(random_state=12345, class_weight='balanced', max_iter=2, solver=solve)\n",
    "    model.fit(features_balance_up,target_balance_up)\n",
    "    valid_predictions = model.predict(features_valid)\n",
    "    result = f1_score(target_valid,valid_predictions)\n",
    "    print('Solver:', solve,'Точность:',result)\n",
    "    if result > best_result:\n",
    "        best_solver= solve\n",
    "        best_result = result\n",
    "print('Лучшее значение solver:', best_solver,'Лучшая точность:', best_result)"
   ]
  },
  {
   "cell_type": "markdown",
   "metadata": {},
   "source": [
    "#### Отобразим модели с лучшими результатами"
   ]
  },
  {
   "cell_type": "code",
   "execution_count": 44,
   "metadata": {},
   "outputs": [
    {
     "name": "stdout",
     "output_type": "stream",
     "text": [
      "Лучшая модель дерева решений F1: 0.5963791267305644\n",
      "CPU times: user 33.3 ms, sys: 72 µs, total: 33.4 ms\n",
      "Wall time: 31.6 ms\n"
     ]
    }
   ],
   "source": [
    "%%time\n",
    "best_tree_model = DecisionTreeClassifier(max_depth=5, class_weight='balanced', random_state=12345)\n",
    "best_tree_model.fit(features_balance_up,target_balance_up)\n",
    "predictions_valid = best_tree_model.predict(features_valid)\n",
    "result = f1_score(target_valid,predictions_valid)\n",
    "print('Лучшая модель дерева решений','F1:',result)"
   ]
  },
  {
   "cell_type": "code",
   "execution_count": 45,
   "metadata": {
    "scrolled": true
   },
   "outputs": [
    {
     "name": "stdout",
     "output_type": "stream",
     "text": [
      "Лучшая логистическая модель F1: 0.493595217762596\n",
      "CPU times: user 54.4 ms, sys: 47.9 ms, total: 102 ms\n",
      "Wall time: 69 ms\n"
     ]
    }
   ],
   "source": [
    "%%time\n",
    "best_logistic_model = LogisticRegression(random_state=12345, class_weight='balanced', max_iter=2)\n",
    "best_logistic_model.fit(features_balance_up,target_balance_up)\n",
    "valid_predictions = best_logistic_model.predict(features_valid)\n",
    "result = f1_score(target_valid,valid_predictions)\n",
    "print('Лучшая логистическая модель','F1:',result)"
   ]
  },
  {
   "cell_type": "code",
   "execution_count": 46,
   "metadata": {
    "scrolled": false
   },
   "outputs": [
    {
     "name": "stdout",
     "output_type": "stream",
     "text": [
      "Лучшая модель случайного леса F1 0.6308871851040525\n",
      "CPU times: user 894 ms, sys: 4.07 ms, total: 898 ms\n",
      "Wall time: 912 ms\n"
     ]
    }
   ],
   "source": [
    "%%time\n",
    "best_forest_model = RandomForestClassifier(n_estimators=73, max_depth=10, class_weight='balanced',criterion='entropy', random_state=12345)\n",
    "best_forest_model.fit(features_balance_up,target_balance_up)\n",
    "predictions_valid = best_forest_model.predict(features_valid)\n",
    "result = f1_score(target_valid,predictions_valid)\n",
    "print('Лучшая модель случайного леса','F1',result)"
   ]
  },
  {
   "cell_type": "markdown",
   "metadata": {},
   "source": [
    "Как видим, лучший результат показала модель случайного леса, F1=0.630 при количестве деревьев =73, глубине дерева = 10 и criterion - 'entropy', при этом скорость выполнения кода в данной модели оставляет желать лучшего."
   ]
  },
  {
   "cell_type": "markdown",
   "metadata": {},
   "source": [
    "### Вывод"
   ]
  },
  {
   "cell_type": "markdown",
   "metadata": {},
   "source": [
    "В ходе выполнения третьего шага мы улучшили качество модели, учитывая дисбаланс классов, в частности использовали методы увеличения и уменьшения выборки, но остановились на первом ввиду небольшого количества данных, чтобы уменьшать выборку, и ввиду того, что метод upsampling показал лучшие результаты. С учетом дисбаланса мы обучили разные модели (дерево решений, случайный лес, логистическая регрессия) и нашли лучшую, ей оказалась модель случайного леса, а именно F1=0.630 при количестве деревьев =73, глубине дерева = 10 и criterion - 'entropy', при этом скорость выполнения кода ниже, чем у других рассматриваемых моделей. Лучший показатель F1 у дерева решений равен 0,596, а у логистической регрессии 0,493."
   ]
  },
  {
   "cell_type": "markdown",
   "metadata": {},
   "source": [
    "<a id=\"test\"></a>\n",
    "# 4. Тестирование модели"
   ]
  },
  {
   "cell_type": "markdown",
   "metadata": {},
   "source": [
    "Проведем финальное тестирование полученных моделей на тестовой выборке."
   ]
  },
  {
   "cell_type": "code",
   "execution_count": 47,
   "metadata": {
    "scrolled": false
   },
   "outputs": [
    {
     "name": "stdout",
     "output_type": "stream",
     "text": [
      "F1 на тестовой выборке 0.6116402116402117\n",
      "CPU times: user 868 ms, sys: 0 ns, total: 868 ms\n",
      "Wall time: 882 ms\n"
     ]
    }
   ],
   "source": [
    "%%time\n",
    "model = RandomForestClassifier(n_estimators=73, max_depth=10, class_weight='balanced',criterion='entropy', random_state=12345)\n",
    "model.fit(features_balance_up,target_balance_up)\n",
    "predictions_test = model.predict(features_test)\n",
    "result = f1_score(target_test,predictions_test)\n",
    "print('F1 на тестовой выборке', result)"
   ]
  },
  {
   "cell_type": "code",
   "execution_count": 48,
   "metadata": {},
   "outputs": [
    {
     "name": "stdout",
     "output_type": "stream",
     "text": [
      "F1 дерева решений на тестовой выборке F1: 0.5809128630705395\n",
      "CPU times: user 31.1 ms, sys: 0 ns, total: 31.1 ms\n",
      "Wall time: 29.4 ms\n"
     ]
    }
   ],
   "source": [
    "%%time\n",
    "best_tree_model = DecisionTreeClassifier(max_depth=5, class_weight='balanced', random_state=12345)\n",
    "best_tree_model.fit(features_balance_up,target_balance_up)\n",
    "predictions_test = best_tree_model.predict(features_test)\n",
    "result = f1_score(target_test,predictions_test)\n",
    "print('F1 дерева решений на тестовой выборке','F1:',result)"
   ]
  },
  {
   "cell_type": "code",
   "execution_count": 49,
   "metadata": {
    "scrolled": true
   },
   "outputs": [
    {
     "name": "stdout",
     "output_type": "stream",
     "text": [
      "F1 модели логистической регресси на тестовой выборке F1: 0.480553154710458\n",
      "CPU times: user 16.2 ms, sys: 11.2 ms, total: 27.3 ms\n",
      "Wall time: 44.7 ms\n"
     ]
    }
   ],
   "source": [
    "%%time\n",
    "best_logistic_model = LogisticRegression(random_state=12345, class_weight='balanced', max_iter=2)\n",
    "best_logistic_model.fit(features_balance_up,target_balance_up)\n",
    "test_predictions = best_logistic_model.predict(features_test)\n",
    "result = f1_score(target_test,test_predictions)\n",
    "print('F1 модели логистической регресси на тестовой выборке','F1:',result)"
   ]
  },
  {
   "cell_type": "markdown",
   "metadata": {},
   "source": [
    "### Вывод"
   ]
  },
  {
   "cell_type": "markdown",
   "metadata": {},
   "source": [
    "В ходе выполнения 4 шага мы тестировали наши лучшие модели на тестовой выборке.\n",
    "На тестовой выборке лучшая модель случайного леса показывает значение F1, приближенное к тренировочной выборке, но все же  ниже, в частности 0,611. Меньшие значения F1 на тестовых выборках мы наблюдаем и по моделям логистической регрессии, а также дерева решений. Таким образом, в данном случае мы наблюдаем проблему переообучения, но значения отличаются не существенно, поэтому можем считать, что нам удалось построить модель для задачи бинарной классификации, которая предскажет уход клиента.\n",
    "\n",
    "Таким образом, с учетом того, что выборка не будет большой, в данном случае можно рекомендовать к использованию модель случайного леса."
   ]
  },
  {
   "cell_type": "markdown",
   "metadata": {},
   "source": [
    "<a id=\"auc-roc\"></a>\n",
    "# 5. Измерение AUC-ROC"
   ]
  },
  {
   "cell_type": "markdown",
   "metadata": {},
   "source": [
    "рисуем roc-кривую и считаем площадь под ней для лучшей модели, а именно случайного леса"
   ]
  },
  {
   "cell_type": "code",
   "execution_count": 50,
   "metadata": {},
   "outputs": [],
   "source": [
    "probabilities_valid_forest = best_forest_model.predict_proba(features_valid)\n",
    "probabilities_one_valid_forest = probabilities_valid_forest[:, 1]"
   ]
  },
  {
   "cell_type": "code",
   "execution_count": 51,
   "metadata": {},
   "outputs": [],
   "source": [
    "fpr_forest,tpr_forest,thresholds=roc_curve(target_valid,probabilities_one_valid_forest)"
   ]
  },
  {
   "cell_type": "code",
   "execution_count": 52,
   "metadata": {},
   "outputs": [],
   "source": [
    "auc_roc_forest=roc_auc_score(target_valid,probabilities_one_valid_forest)"
   ]
  },
  {
   "cell_type": "code",
   "execution_count": 53,
   "metadata": {
    "scrolled": true
   },
   "outputs": [
    {
     "data": {
      "text/plain": [
       "0.8526621259504352"
      ]
     },
     "execution_count": 53,
     "metadata": {},
     "output_type": "execute_result"
    }
   ],
   "source": [
    "auc_roc_forest"
   ]
  },
  {
   "cell_type": "markdown",
   "metadata": {},
   "source": [
    "аналогичные расчеты производим для лучшей модели решающего дерева"
   ]
  },
  {
   "cell_type": "code",
   "execution_count": 54,
   "metadata": {},
   "outputs": [],
   "source": [
    "probabilities_valid_tree = best_tree_model.predict_proba(features_valid)\n",
    "probabilities_one_valid_tree = probabilities_valid_tree[:, 1]"
   ]
  },
  {
   "cell_type": "code",
   "execution_count": 55,
   "metadata": {},
   "outputs": [],
   "source": [
    "fpr_tree,tpr_tree,thresholds=roc_curve(target_valid,probabilities_one_valid_tree)"
   ]
  },
  {
   "cell_type": "code",
   "execution_count": 56,
   "metadata": {
    "scrolled": false
   },
   "outputs": [
    {
     "data": {
      "text/plain": [
       "0.8310244134068074"
      ]
     },
     "execution_count": 56,
     "metadata": {},
     "output_type": "execute_result"
    }
   ],
   "source": [
    "auc_roc_tree=roc_auc_score(target_valid,probabilities_one_valid_tree)\n",
    "auc_roc_tree"
   ]
  },
  {
   "cell_type": "markdown",
   "metadata": {},
   "source": [
    "аналогичные расчеты производим для модели логистической регрессии"
   ]
  },
  {
   "cell_type": "code",
   "execution_count": 57,
   "metadata": {},
   "outputs": [],
   "source": [
    "probabilities_valid_logistic = best_logistic_model.predict_proba(features_valid)\n",
    "probabilities_one_valid_logistic = probabilities_valid_logistic[:, 1]"
   ]
  },
  {
   "cell_type": "code",
   "execution_count": 58,
   "metadata": {},
   "outputs": [],
   "source": [
    "fpr_logistic,tpr_logistic,thresholds=roc_curve(target_valid,probabilities_one_valid_logistic)"
   ]
  },
  {
   "cell_type": "code",
   "execution_count": 59,
   "metadata": {},
   "outputs": [
    {
     "data": {
      "text/plain": [
       "0.7631926759779579"
      ]
     },
     "execution_count": 59,
     "metadata": {},
     "output_type": "execute_result"
    }
   ],
   "source": [
    "auc_roc_logistic=roc_auc_score(target_valid,probabilities_one_valid_logistic)\n",
    "auc_roc_logistic"
   ]
  },
  {
   "cell_type": "markdown",
   "metadata": {},
   "source": [
    "отображаем roc-кривые на графике, чтобы наглядно видеть, как сильно модель отличается от слчайной."
   ]
  },
  {
   "cell_type": "code",
   "execution_count": 60,
   "metadata": {
    "scrolled": false
   },
   "outputs": [
    {
     "data": {
      "text/plain": [
       "<Figure size 432x288 with 0 Axes>"
      ]
     },
     "metadata": {},
     "output_type": "display_data"
    },
    {
     "data": {
      "image/png": "[encoded data removed]",
      "text/plain": [
       "<Figure size 720x504 with 1 Axes>"
      ]
     },
     "metadata": {
      "needs_background": "light"
     },
     "output_type": "display_data"
    }
   ],
   "source": [
    "plt.figure()\n",
    "\n",
    "plt.figure(figsize=(10,7))\n",
    "plt.plot([0, 1], [0, 1], linestyle='--')\n",
    "plt.xlim([0.0, 1.0])\n",
    "plt.ylim([0.0, 1.0])\n",
    "plt.plot(fpr_logistic,tpr_logistic)\n",
    "plt.plot(fpr_tree,tpr_tree)\n",
    "plt.plot(fpr_forest,tpr_forest)\n",
    "plt.xlabel('False Positive Rate')\n",
    "plt.ylabel('True Positive Rate')\n",
    "plt.title('ROC-кривая')\n",
    "plt.legend(('Случайная модель','Логистическая регрессия','Дерево решений','Случайный лес'),\n",
    "           loc= 'upper left')\n",
    "plt.show()"
   ]
  },
  {
   "cell_type": "markdown",
   "metadata": {},
   "source": [
    "### Вывод"
   ]
  },
  {
   "cell_type": "markdown",
   "metadata": {},
   "source": [
    "В ходе выполнения 5 шага мы измеряли для наших моделей такую метрику, как auc-roc, в частности нарисовали roc-кривые для 3 рассматриваемх моделей и рассчитали площадь под ней.\n",
    "Мы увидели, что и по данной метрике лучшей оказалась модель случайного леса с показателем auc-roc = 0.852, далее следует решающее дерево со значением roc-auc = 0.831 и в конце рейтинга моделей логистическая регрессия с показателем roc-auc равным 0,763, то есть в данном случае \"рейтинг\" качества моделей не отличается от такого же \"рейтинга\", где используется F1-мера, лучшей по обеим метрикам является модель случайного леса, а худшей - логистическа регрессия.\n",
    "\n"
   ]
  },
  {
   "cell_type": "markdown",
   "metadata": {},
   "source": [
    "<a id=\"conclusion\"></a>\n",
    "# 6. Общий вывод"
   ]
  },
  {
   "cell_type": "markdown",
   "metadata": {},
   "source": [
    "В ходе выполнения данной работы сделано нижеследующее.\n",
    "\n",
    "* В ходе выполнения первого шага мы открыли интересующий файл с данными, сохранив его в датафрейме df, а также получили общую информацию об указанном датафрейме. Таблица включает в себя 14 признаков и 10 000 объектов.\n",
    "\n",
    "Целевым признаком является Exited, остальные признаки служили для обучения модели, т.е. модель, которую мы попытались построить, должна была предсказывать значение 1, если клиент вероятнее всего уйдет из банка, и 0, если останется. В этом и заключается задача бинарной классификации, т.к. наш целевой признак является категориальным.\n",
    "\n",
    "Также, мы обнаружили такую проблему, как пропуски в признаке со значениями количества недвижимости у клиента,к тому же тип данных у данного признака также несоответствующий, в частности float64, а должен быть целочисленный. В части наличия пропусков по данному признаку мы предположили, что это возможно связано с отсутствием недвижимости у данных клиентов, поэтому мы приняли решение заменить пропуски на 0 и изменить тип данных на целочисленный. Также, мы обнуржили признаки, которые вряд ли помогут нам в решении нашей задачи, в частности 'RowNumber' (индекс строки в данных),'CustomerId' (уникальный идентификатор клиента),'Surname' (фамилия), поэтому, чтобы не нагружать модель лишней информацией, эти признаки мы удалили из датасета.\n",
    "\n",
    "С целью установления возможной мультиколлениарности рассматриваемых факторов, которая может стать причиной переробучения модели и увеличения сложности модели обучения, то есть факторов, которые имеют сильную связь друг с другом, мы посмотрели значения коэффициентов корреляции по рассматриваемым количественным переменным. Вместе с тем, мультиколлинеарность по количественным признакам не обнаружена.\n",
    "\n",
    "* В ходе выполнения 2 шага мы исследовали баланс классов. Мы обнаружили, что соотношение количества ушедших из банка и оставшихся клиентов 1:4. Такое соотношение может говорить о наличии дисбаланса классов. \n",
    "\n",
    "Также посмотрели на зависимость целевого признака от других рассматриваемых признаков. Так, к примеру, мы обнаружили, что существует зависимость между целевым признаком и возрастом клиентов.\n",
    "\n",
    "кроме того, методом One hot Encoder мы избавились от категориальных признаков, а также стандартизировали рассматриваемые данные ввиду наличия большой разницы в значениях.\n",
    "\n",
    "Также, мы обучили модель без учёта дисбаланса, используя дерево решений, случайный лес и логистическую регрессию.\n",
    "\n",
    "Самый лучший результата показала модель случайного леса при лучшем значении max_depth=12 и количестве деревьев -43, мы получили значение F1-меры =0,597, хуже всего себя показала логистическая регрессия, тут F1 = 0.33.\n",
    "\n",
    "\n",
    "* В ходе выполнения третьего шага мы улучшили качество модели, учитывая дисбаланс классов, в частности использовали методы увеличения и уменьшения выборки, но остановились на первом ввиду небольшого количества данных, чтобы уменьшать выборку, и ввиду того, что метод upsampling показал лучшие результаты. С учетом дисбаланса мы обучили разные модели (дерево решений, случайный лес, логистическая регрессия) и нашли лучшую, ей оказалась модель случайного леса, а именно F1=0.630 при количестве деревьев =73, глубине дерева = 10 и criterion - 'entropy', при этом скорость выполнения кода ниже, чем у других рассматриваемых моделей. Лучший показатель F1 у дерева решений равен 0,596, а у логистической регрессии 0,493.\n",
    "\n",
    "* В ходе выполнения 4 шага мы тестировали наши лучшие модели на тестовой выборке.\n",
    "На тестовой выборке лучшая модель случайного леса показала значение F1, приближенное к тренировочной выборке, но все же  ниже, в частности 0,611. Меньшие значения F1 на тестовых выборках мы наблюдали и по моделям логистической регрессии, а также дерева решений. Таким образом, в данном случае мы обнаружили проблему переообучения, но значения отличаются не существенно, поэтому можем считать, что нам удалось построить модель для задачи бинарной классификации, которая предскажет уход клиента.\n",
    "\n",
    "**Таким образом, с учетом того, что выборка не будет большой, в данном случае можно рекомендовать к использованию модель случайного леса.**\n",
    "\n",
    "\n",
    "* В ходе выполнения 5 шага мы измеряли для наших моделей такую метрику, как auc-roc, в частности нарисовали roc-кривые для 3 рассматриваемх моделей и рассчитали площадь под ней.\n",
    "Мы увидели, что и по данной метрике лучшей оказалась модель случайного леса с показателем auc-roc = 0.852, далее следует решающее дерево со значением roc-auc = 0.831 и в конце рейтинга моделей логистическая регрессия с показателем roc-auc равным 0,763, то есть в данном случае \"рейтинг\" качества моделей не отличается от такого же \"рейтинга\", где используется F1-мера, лучшей по обеим метрикам является модель случайного леса, а худшей - логистическа регрессия.\n",
    "\n"
   ]
  }
 ],
 "metadata": {
  "kernelspec": {
   "display_name": "Python 3",
   "language": "python",
   "name": "python3"
  },
  "language_info": {
   "codemirror_mode": {
    "name": "ipython",
    "version": 3
   },
   "file_extension": ".py",
   "mimetype": "text/x-python",
   "name": "python",
   "nbconvert_exporter": "python",
   "pygments_lexer": "ipython3",
   "version": "3.7.8"
  },
  "toc": {
   "base_numbering": 1,
   "nav_menu": {},
   "number_sections": true,
   "sideBar": true,
   "skip_h1_title": true,
   "title_cell": "Table of Contents",
   "title_sidebar": "Contents",
   "toc_cell": false,
   "toc_position": {},
   "toc_section_display": true,
   "toc_window_display": false
  }
 },
 "nbformat": 4,
 "nbformat_minor": 2
}
